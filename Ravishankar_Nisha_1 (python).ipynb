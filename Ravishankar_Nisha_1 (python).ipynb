{
 "cells": [
  {
   "cell_type": "markdown",
   "id": "b9b53850-70e2-4919-8289-cc5263264ed1",
   "metadata": {},
   "source": [
    "Psuedocode:-\n",
    "1)Firstly,I will store all the values from the question in constant variables mainly in snake case, nameley, target_revenue,seven_month_revenue, cost_per_unit and august_sales.\n",
    "2)I will calculate the revenue generated in the month of august using 'aug_revenue=august_sales*cost_per_unit' where i multiplied the number\n",
    "  of units sold in the month of august with the cost of a single unit.\n",
    "3)I will calculate the revenue generated so far using 'current_rev=seven_month_revenue+aug_revenue' where i will add the revenue of the past seven        months with the revenue of the eighth month I just calculated.\n",
    "4)Then, I will create a method where I calculate the revenue left to generate in the rest of the year.\n",
    "5)I also will run each variables ans constants to check and confirm the calculations.\n",
    "6)I will calculate the number of units left to sell to reach the target revenue using the formula,\n",
    "  'target_units=revenue_Left(target_revenue,current_rev)//cost_per_unit'.\n",
    "7)Lastly, I will use the 'print' function to output the sales report."
   ]
  },
  {
   "cell_type": "code",
   "execution_count": 63,
   "id": "5354dd23-62cf-4b00-9369-95f0b0c47f0e",
   "metadata": {},
   "outputs": [],
   "source": [
    "target_revenue=800000"
   ]
  },
  {
   "cell_type": "code",
   "execution_count": 65,
   "id": "9486ac07-fbe4-412f-8e7c-ad201ede36ac",
   "metadata": {},
   "outputs": [],
   "source": [
    "seven_month_revenue=335200"
   ]
  },
  {
   "cell_type": "code",
   "execution_count": 67,
   "id": "a2a769e0-e756-4d97-8cc0-37185b36e057",
   "metadata": {},
   "outputs": [],
   "source": [
    "cost_per_unit=22.2"
   ]
  },
  {
   "cell_type": "code",
   "execution_count": 69,
   "id": "e0afee0d-16f1-496b-9b46-2265914c7999",
   "metadata": {},
   "outputs": [],
   "source": [
    "august_sales=1000"
   ]
  },
  {
   "cell_type": "code",
   "execution_count": 71,
   "id": "d55c5f95-d472-4cd7-9a48-a34507d53c8b",
   "metadata": {},
   "outputs": [],
   "source": [
    "aug_revenue=august_sales*cost_per_unit"
   ]
  },
  {
   "cell_type": "code",
   "execution_count": 73,
   "id": "5b747f0e-31a6-424a-b405-cb6bee1b27dd",
   "metadata": {},
   "outputs": [],
   "source": [
    "current_rev=seven_month_revenue+aug_revenue"
   ]
  },
  {
   "cell_type": "code",
   "execution_count": 75,
   "id": "e6a46fed-67b3-42eb-9fcf-0e1d6094f37d",
   "metadata": {},
   "outputs": [],
   "source": [
    "def revenue_Left(x,y):\n",
    "    rev_target_left=x-y\n",
    "    return rev_target_left"
   ]
  },
  {
   "cell_type": "code",
   "execution_count": 77,
   "id": "7eeafc02-8b2d-4930-a206-d649a572a2d1",
   "metadata": {},
   "outputs": [
    {
     "data": {
      "text/plain": [
       "22200.0"
      ]
     },
     "execution_count": 77,
     "metadata": {},
     "output_type": "execute_result"
    }
   ],
   "source": [
    "aug_revenue"
   ]
  },
  {
   "cell_type": "code",
   "execution_count": 79,
   "id": "e5289b05-9206-49ca-b7a8-c50f90a6ee3f",
   "metadata": {},
   "outputs": [
    {
     "data": {
      "text/plain": [
       "357400.0"
      ]
     },
     "execution_count": 79,
     "metadata": {},
     "output_type": "execute_result"
    }
   ],
   "source": [
    "current_rev"
   ]
  },
  {
   "cell_type": "code",
   "execution_count": 81,
   "id": "0cdcae08-2e24-4247-8533-d421f92c7042",
   "metadata": {},
   "outputs": [
    {
     "data": {
      "text/plain": [
       "442600.0"
      ]
     },
     "execution_count": 81,
     "metadata": {},
     "output_type": "execute_result"
    }
   ],
   "source": [
    "revenue_Left(target_revenue,current_rev)"
   ]
  },
  {
   "cell_type": "code",
   "execution_count": 83,
   "id": "4a0707f1-b3b1-4343-becc-4d41572defc1",
   "metadata": {},
   "outputs": [],
   "source": [
    "target_units=revenue_Left(target_revenue,current_rev)//cost_per_unit"
   ]
  },
  {
   "cell_type": "code",
   "execution_count": 85,
   "id": "bc30dabd-a85f-4db3-9cd7-da2b3515d6a8",
   "metadata": {},
   "outputs": [
    {
     "data": {
      "text/plain": [
       "19936.0"
      ]
     },
     "execution_count": 85,
     "metadata": {},
     "output_type": "execute_result"
    }
   ],
   "source": [
    "target_units"
   ]
  },
  {
   "cell_type": "code",
   "execution_count": 87,
   "id": "36b1b42e-1dfb-4326-9556-1fd5c1099322",
   "metadata": {},
   "outputs": [
    {
     "name": "stdout",
     "output_type": "stream",
     "text": [
      "WATERPRO AUSTRALIA\n",
      ":- WATERCURE\n",
      "*** 2024 Sales Report for the month of AUGUST***\n",
      "Date: 30th of August 2024\n",
      "Target Revenue for the year of 2024: $ 800000\n",
      "Sales revenue generated from the past seven months(January to July):$ 335200\n",
      "The cost of each unit sold in the past seven months:$ 22.2\n",
      "The number of units sold in the month of august: 1000\n",
      "The estimated cost of the revenue generated in the month of august:$ 22200.0\n",
      "The revenue goal amount left to reach in the next four months of this year :$ 442600.0\n",
      "The estimated number of Units left to be sold in order to meet this years target revenue : 19936\n",
      "***End of Sales Report***\n"
     ]
    }
   ],
   "source": [
    "print(\"WATERPRO AUSTRALIA\")\n",
    "print(\":- WATERCURE\")\n",
    "print(\"*** 2024 Sales Report for the month of AUGUST***\")\n",
    "print(\"Date: 30th of August 2024\")\n",
    "print(\"Target Revenue for the year of 2024: $\",target_revenue)\n",
    "print(\"Sales revenue generated from the past seven months(January to July):$\",seven_month_revenue)\n",
    "print(\"The cost of each unit sold in the past seven months:$\",cost_per_unit)\n",
    "print(\"The number of units sold in the month of august:\",august_sales)\n",
    "print(\"The estimated cost of the revenue generated in the month of august:$\",aug_revenue)\n",
    "print(\"The revenue goal amount left to reach in the next four months of this year :$\",revenue_Left(target_revenue,current_rev))\n",
    "print(\"The estimated number of Units left to be sold in order to meet this years target revenue :\",round(target_units))\n",
    "print(\"***End of Sales Report***\")"
   ]
  },
  {
   "cell_type": "code",
   "execution_count": null,
   "id": "05ff62bd-ca9f-42b5-8416-bc82e9900cd2",
   "metadata": {},
   "outputs": [],
   "source": []
  }
 ],
 "metadata": {
  "kernelspec": {
   "display_name": "Python 3 (ipykernel)",
   "language": "python",
   "name": "python3"
  },
  "language_info": {
   "codemirror_mode": {
    "name": "ipython",
    "version": 3
   },
   "file_extension": ".py",
   "mimetype": "text/x-python",
   "name": "python",
   "nbconvert_exporter": "python",
   "pygments_lexer": "ipython3",
   "version": "3.12.4"
  }
 },
 "nbformat": 4,
 "nbformat_minor": 5
}
